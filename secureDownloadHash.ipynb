{
  "nbformat": 4,
  "nbformat_minor": 0,
  "metadata": {
    "colab": {
      "provenance": [],
      "authorship_tag": "ABX9TyOz2mF1PlkhWRvWMOz0dBtZ",
      "include_colab_link": true
    },
    "kernelspec": {
      "name": "python3",
      "display_name": "Python 3"
    },
    "language_info": {
      "name": "python"
    }
  },
  "cells": [
    {
      "cell_type": "markdown",
      "metadata": {
        "id": "view-in-github",
        "colab_type": "text"
      },
      "source": [
        "<a href=\"https://colab.research.google.com/github/LPProjects/secureDownloadHash/blob/main/secureDownloadHash.ipynb\" target=\"_parent\"><img src=\"https://colab.research.google.com/assets/colab-badge.svg\" alt=\"Open In Colab\"/></a>"
      ]
    },
    {
      "cell_type": "code",
      "execution_count": null,
      "metadata": {
        "colab": {
          "base_uri": "https://localhost:8080/"
        },
        "id": "3f8FfLrq1ZzI",
        "outputId": "84d4a851-c6b5-4302-9281-9fb5f254449a"
      },
      "outputs": [
        {
          "output_type": "stream",
          "name": "stdout",
          "text": [
            "True\n"
          ]
        }
      ],
      "source": [
        "import hashlib\n",
        "\n",
        "CORRECT_HASH = \"3860e524fbfe73d52ed16f762e6ed705cc31a520ac601e4bd8622cd99f93af58\"\n",
        "\n",
        "\n",
        "with open(\"Everything-1.4.1.1022.x86-Setup.exe\", \"rb\") as f:\n",
        "   file_bytes = f.read()\n",
        "   h = hashlib.sha256()\n",
        "   h.update(file_bytes)\n",
        "   file_hash = h.hexdigest()\n",
        "\n",
        "print(file_hash == CORRECT_HASH)"
      ]
    }
  ]
}